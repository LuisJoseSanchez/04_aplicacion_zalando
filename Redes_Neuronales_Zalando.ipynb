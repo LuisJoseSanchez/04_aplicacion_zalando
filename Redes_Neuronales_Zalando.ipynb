{
  "nbformat": 4,
  "nbformat_minor": 0,
  "metadata": {
    "colab": {
      "provenance": [],
      "gpuType": "T4"
    },
    "kernelspec": {
      "name": "python3",
      "display_name": "Python 3"
    },
    "language_info": {
      "name": "python"
    },
    "accelerator": "GPU"
  },
  "cells": [
    {
      "cell_type": "code",
      "execution_count": null,
      "metadata": {
        "id": "kUrZUwCQVZqZ"
      },
      "outputs": [],
      "source": [
        "import tensorflow as tf\n",
        "\n",
        "# Helper libraries\n",
        "import numpy as np\n",
        "import matplotlib.pyplot as plt\n",
        "\n",
        "(train_images, train_labels), (test_images, test_labels) = tf.keras.datasets.fashion_mnist.load_data()\n"
      ]
    },
    {
      "cell_type": "code",
      "source": [
        "# Output: (60000, 28, 28)\n",
        "print(train_images.shape)"
      ],
      "metadata": {
        "colab": {
          "base_uri": "https://localhost:8080/"
        },
        "id": "GQf_QZKzWmkL",
        "outputId": "33cf6707-ca18-4599-96ea-097d5acf9b97"
      },
      "execution_count": null,
      "outputs": [
        {
          "output_type": "stream",
          "name": "stdout",
          "text": [
            "(60000, 28, 28)\n"
          ]
        }
      ]
    },
    {
      "cell_type": "code",
      "source": [
        "# Output: 60000\n",
        "print(len(train_labels))"
      ],
      "metadata": {
        "colab": {
          "base_uri": "https://localhost:8080/"
        },
        "id": "B83zFYh_WqMk",
        "outputId": "cc0a9332-174d-42e8-b58f-d47a6236a1a1"
      },
      "execution_count": null,
      "outputs": [
        {
          "output_type": "stream",
          "name": "stdout",
          "text": [
            "60000\n"
          ]
        }
      ]
    },
    {
      "cell_type": "code",
      "source": [
        "# Output: (10000, 28, 28)\n",
        "print(test_images.shape)"
      ],
      "metadata": {
        "colab": {
          "base_uri": "https://localhost:8080/"
        },
        "id": "qcV1qrjMWuE7",
        "outputId": "3bfcbeb1-8375-44e8-8f82-0594fb58a1d5"
      },
      "execution_count": null,
      "outputs": [
        {
          "output_type": "stream",
          "name": "stdout",
          "text": [
            "(10000, 28, 28)\n"
          ]
        }
      ]
    },
    {
      "cell_type": "code",
      "source": [
        "\n",
        "# Output: 1000\n",
        "print(len(test_labels))"
      ],
      "metadata": {
        "colab": {
          "base_uri": "https://localhost:8080/"
        },
        "id": "YIY8ZIiCWxtl",
        "outputId": "2a4589d0-984d-49a5-de3b-6e9b756ebae4"
      },
      "execution_count": null,
      "outputs": [
        {
          "output_type": "stream",
          "name": "stdout",
          "text": [
            "10000\n"
          ]
        }
      ]
    },
    {
      "cell_type": "code",
      "source": [
        "# Output: array([0, 1, 2, 3, 4, 5, 6, 7, 8, 9], dtype=uint8)\n",
        "print(np.unique(train_labels))"
      ],
      "metadata": {
        "colab": {
          "base_uri": "https://localhost:8080/"
        },
        "id": "lFEAPvKxW7p_",
        "outputId": "50b11a8c-7c74-4274-ba89-f454da97f9f3"
      },
      "execution_count": null,
      "outputs": [
        {
          "output_type": "stream",
          "name": "stdout",
          "text": [
            "[0 1 2 3 4 5 6 7 8 9]\n"
          ]
        }
      ]
    },
    {
      "cell_type": "code",
      "source": [
        "print(\"Elemento 125:\", train_labels[125])"
      ],
      "metadata": {
        "colab": {
          "base_uri": "https://localhost:8080/"
        },
        "id": "AeAKRiaGW9gq",
        "outputId": "94f3f095-077f-4222-a0bb-5699e7fb9fe4"
      },
      "execution_count": null,
      "outputs": [
        {
          "output_type": "stream",
          "name": "stdout",
          "text": [
            "Elemento 125: 2\n"
          ]
        }
      ]
    },
    {
      "cell_type": "code",
      "source": [
        "plt.figure()\n",
        "plt.imshow(train_images[125])\n",
        "plt.colorbar()\n",
        "plt.grid(False)\n",
        "plt.show()"
      ],
      "metadata": {
        "colab": {
          "base_uri": "https://localhost:8080/",
          "height": 430
        },
        "id": "xlk92xf_XQSr",
        "outputId": "549d69b6-8926-4517-a379-477cc60960bd"
      },
      "execution_count": null,
      "outputs": [
        {
          "output_type": "display_data",
          "data": {
            "text/plain": [
              "<Figure size 640x480 with 2 Axes>"
            ],
            "image/png": "[encoded data removed]"
          },
          "metadata": {}
        }
      ]
    },
    {
      "cell_type": "code",
      "source": [
        "print(\"Max value:\", max(train_images[125].reshape(784)))\n",
        "print(\"Min value:\", min(train_images[125].reshape(784)))\n",
        "print(\"Elemento 125:\", train_images[125])\n",
        "print(\"Elemento 125:\", train_images[125].reshape(784))"
      ],
      "metadata": {
        "colab": {
          "base_uri": "https://localhost:8080/"
        },
        "id": "aXsci44fYUw6",
        "outputId": "384a9a18-81fe-49f6-814d-7772341a3f03"
      },
      "execution_count": null,
      "outputs": [
        {
          "output_type": "stream",
          "name": "stdout",
          "text": [
            "Max value: 255\n",
            "Min value: 0\n",
            "Elemento 125: [[  0   0   0   0   0   0   0   0  13  45  48  14   0   0   0   0   0  47\n",
            "   52  33   1   0   0   1   0   0   0   0]\n",
            " [  0   0   0   0   1   0  13  75  84  67  55  55  39  64 230  83  79  66\n",
            "   51  74  80  49   0   0   0   0   0   0]\n",
            " [  0   0   0   0   0   1  74  46  34  23  20  17  11  10  24   4   2   9\n",
            "   29  35  37  60  51   0   1   0   0   0]\n",
            " [  0   0   0   0   0  34  65   0   0   0   0  13  14   0   0   0   0   0\n",
            "    0   0   0  10  55  11   0   0   0   0]\n",
            " [  0   0   0   0   0  58  16  30 202 239 255 255 255 255 255 255 254 234\n",
            "  216 184  97   0  31  33   0   0   0   0]\n",
            " [  0   0   0   0   0  64   0 225 251 233 234 233 232 233 235 234 236 238\n",
            "  238 239 254 135   0  52   0   0   0   0]\n",
            " [  0   0   0   0   0   3  13 255 221 226 229 230 229 229 230 229 227 226\n",
            "  223 220 229 244   0  10   0   0   0   0]\n",
            " [  0   0   0   0  14 184 128 255 224 225 230 232 231 231 232 230 231 230\n",
            "  229 222 234 255   0  78   0   0   0   0]\n",
            " [  0   0   0   0   0 255 234 234 222 219 221 218 220 223 223 222 220 219\n",
            "  220 218 233 229 235 255   0   0   0   0]\n",
            " [  0   0   0   0  34 225 221 235 238 255 255 255 255 255 255 255 255 255\n",
            "  255 239 230 239 237 249   0   0   0   0]\n",
            " [  0   0   0   0  85 236 225 209 197 178 123  99  72  52  42  60  85 123\n",
            "  164 241 238 228 225 224   7   0   0   0]\n",
            " [  0   0   0   0  98 222 245 213   0   0   0   0   0   0   0   0   0   0\n",
            "    0   0  35 222 245 250  65   0   0   0]\n",
            " [  0   0   0   0   0   3  42  49  12  36  35  30  26  22  21  22  22  19\n",
            "   18  16   0 165 203 188  46   0   0   0]\n",
            " [  0   0   0   0  33  12   0   0  23  40  29  23  19  17  17  17  15  16\n",
            "   13  27   9   0   0   0   0   0   0   0]\n",
            " [  0   0   0   0  43  25  23  14  35  39  30  21  20  18  16  16  15  15\n",
            "   17  25  10  26  44  32  18   0   0   0]\n",
            " [  0   0   0   0  40  24  19   3  38  39  36  23  25  22  20  19  17  18\n",
            "   19  28  17  10  49  30  25   0   0   0]\n",
            " [  0   0   0   0  44  25  25   4  33   0   0   0   0   0   0   0   0   0\n",
            "    0   0   0   8  54  24  24   0   0   0]\n",
            " [  0   0   0   0  25   5   3   2 227 181 157 160 164 164 170 174 178 183\n",
            "  175 188 143   0  70  28  27   0   0   0]\n",
            " [  0   0   0   0  27   0  27   0 255 243 241 242 244 242 242 241 239 240\n",
            "  241 247 239   0  36   0   0   0   0   0]\n",
            " [  0   0   0   0 192 255 255   0 243 227 223 220 219 219 223 219 216 220\n",
            "  225 228 231   0 220 155  72   0   0   0]\n",
            " [  0   0   0   0 179 236 238   0 238 237 227 230 229 229 231 228 227 232\n",
            "  232 239 250   0 255 255 156   0   0   0]\n",
            " [  0   0   0   0 167 234 222   0 233 240 229 230 230 230 230 228 229 232\n",
            "  232 236 255   0 204 248 118   0   0   0]\n",
            " [  0   0   0   0 160 255 212   0 231 231 227 227 221 221 222 221 221 224\n",
            "  228 228 255   0 186 251 140   0   0   0]\n",
            " [  0   0   0   0 138 243 211   0 233 255 241 245 245 245 244 244 244 247\n",
            "  248 253 255   0 170 254 145   0   0   0]\n",
            " [  0   0   0   0 138 245 206   0  41 163 168 169 159 155 165 163 166 151\n",
            "  142 150 145   0 166 254 151   0   0   0]\n",
            " [  0   0   0   0 168 246 187   0   0   0   0   0   0   0   0   0   0   0\n",
            "    0   0   0   0 153 253 149   0   0   0]\n",
            " [  0   0   0   0 180 251 192   0   1   3   0   0   0   1   0   0   0   1\n",
            "    2   3   7   0 163 255 191   0   0   0]\n",
            " [  0   0   0   0   4  58  20   0   0   0   0   0   0   0   0   0   0   0\n",
            "    0   0   1   0  76 181  92   0   0   0]]\n",
            "Elemento 125: [  0   0   0   0   0   0   0   0  13  45  48  14   0   0   0   0   0  47\n",
            "  52  33   1   0   0   1   0   0   0   0   0   0   0   0   1   0  13  75\n",
            "  84  67  55  55  39  64 230  83  79  66  51  74  80  49   0   0   0   0\n",
            "   0   0   0   0   0   0   0   1  74  46  34  23  20  17  11  10  24   4\n",
            "   2   9  29  35  37  60  51   0   1   0   0   0   0   0   0   0   0  34\n",
            "  65   0   0   0   0  13  14   0   0   0   0   0   0   0   0  10  55  11\n",
            "   0   0   0   0   0   0   0   0   0  58  16  30 202 239 255 255 255 255\n",
            " 255 255 254 234 216 184  97   0  31  33   0   0   0   0   0   0   0   0\n",
            "   0  64   0 225 251 233 234 233 232 233 235 234 236 238 238 239 254 135\n",
            "   0  52   0   0   0   0   0   0   0   0   0   3  13 255 221 226 229 230\n",
            " 229 229 230 229 227 226 223 220 229 244   0  10   0   0   0   0   0   0\n",
            "   0   0  14 184 128 255 224 225 230 232 231 231 232 230 231 230 229 222\n",
            " 234 255   0  78   0   0   0   0   0   0   0   0   0 255 234 234 222 219\n",
            " 221 218 220 223 223 222 220 219 220 218 233 229 235 255   0   0   0   0\n",
            "   0   0   0   0  34 225 221 235 238 255 255 255 255 255 255 255 255 255\n",
            " 255 239 230 239 237 249   0   0   0   0   0   0   0   0  85 236 225 209\n",
            " 197 178 123  99  72  52  42  60  85 123 164 241 238 228 225 224   7   0\n",
            "   0   0   0   0   0   0  98 222 245 213   0   0   0   0   0   0   0   0\n",
            "   0   0   0   0  35 222 245 250  65   0   0   0   0   0   0   0   0   3\n",
            "  42  49  12  36  35  30  26  22  21  22  22  19  18  16   0 165 203 188\n",
            "  46   0   0   0   0   0   0   0  33  12   0   0  23  40  29  23  19  17\n",
            "  17  17  15  16  13  27   9   0   0   0   0   0   0   0   0   0   0   0\n",
            "  43  25  23  14  35  39  30  21  20  18  16  16  15  15  17  25  10  26\n",
            "  44  32  18   0   0   0   0   0   0   0  40  24  19   3  38  39  36  23\n",
            "  25  22  20  19  17  18  19  28  17  10  49  30  25   0   0   0   0   0\n",
            "   0   0  44  25  25   4  33   0   0   0   0   0   0   0   0   0   0   0\n",
            "   0   8  54  24  24   0   0   0   0   0   0   0  25   5   3   2 227 181\n",
            " 157 160 164 164 170 174 178 183 175 188 143   0  70  28  27   0   0   0\n",
            "   0   0   0   0  27   0  27   0 255 243 241 242 244 242 242 241 239 240\n",
            " 241 247 239   0  36   0   0   0   0   0   0   0   0   0 192 255 255   0\n",
            " 243 227 223 220 219 219 223 219 216 220 225 228 231   0 220 155  72   0\n",
            "   0   0   0   0   0   0 179 236 238   0 238 237 227 230 229 229 231 228\n",
            " 227 232 232 239 250   0 255 255 156   0   0   0   0   0   0   0 167 234\n",
            " 222   0 233 240 229 230 230 230 230 228 229 232 232 236 255   0 204 248\n",
            " 118   0   0   0   0   0   0   0 160 255 212   0 231 231 227 227 221 221\n",
            " 222 221 221 224 228 228 255   0 186 251 140   0   0   0   0   0   0   0\n",
            " 138 243 211   0 233 255 241 245 245 245 244 244 244 247 248 253 255   0\n",
            " 170 254 145   0   0   0   0   0   0   0 138 245 206   0  41 163 168 169\n",
            " 159 155 165 163 166 151 142 150 145   0 166 254 151   0   0   0   0   0\n",
            "   0   0 168 246 187   0   0   0   0   0   0   0   0   0   0   0   0   0\n",
            "   0   0 153 253 149   0   0   0   0   0   0   0 180 251 192   0   1   3\n",
            "   0   0   0   1   0   0   0   1   2   3   7   0 163 255 191   0   0   0\n",
            "   0   0   0   0   4  58  20   0   0   0   0   0   0   0   0   0   0   0\n",
            "   0   0   1   0  76 181  92   0   0   0]\n"
          ]
        }
      ]
    },
    {
      "cell_type": "code",
      "source": [
        "train_images = train_images / 255.0\n",
        "test_images = test_images / 255.0"
      ],
      "metadata": {
        "id": "ltPQxFTPYvrO"
      },
      "execution_count": null,
      "outputs": []
    },
    {
      "cell_type": "code",
      "source": [
        "print(\"Max value:\", max(train_images[125].reshape(784)))\n",
        "print(\"Min value:\", min(train_images[125].reshape(784)))\n",
        "\n",
        "x_train = train_images.reshape(60000, 784)\n",
        "x_test = test_images.reshape(10000, 784)\n",
        "print(\"Elemento 125:\", train_images[125])\n",
        "print(\"Elemento 125:\", train_images[125].reshape(784))"
      ],
      "metadata": {
        "colab": {
          "base_uri": "https://localhost:8080/"
        },
        "id": "7uh_rIyoY6be",
        "outputId": "9893c65d-2d38-4aa6-c9c0-6dbeb6b4da57"
      },
      "execution_count": null,
      "outputs": [
        {
          "output_type": "stream",
          "name": "stdout",
          "text": [
            "Max value: 1.0\n",
            "Min value: 0.0\n",
            "Elemento 125: [[0.         0.         0.         0.         0.         0.\n",
            "  0.         0.         0.05098039 0.17647059 0.18823529 0.05490196\n",
            "  0.         0.         0.         0.         0.         0.18431373\n",
            "  0.20392157 0.12941176 0.00392157 0.         0.         0.00392157\n",
            "  0.         0.         0.         0.        ]\n",
            " [0.         0.         0.         0.         0.00392157 0.\n",
            "  0.05098039 0.29411765 0.32941176 0.2627451  0.21568627 0.21568627\n",
            "  0.15294118 0.25098039 0.90196078 0.3254902  0.30980392 0.25882353\n",
            "  0.2        0.29019608 0.31372549 0.19215686 0.         0.\n",
            "  0.         0.         0.         0.        ]\n",
            " [0.         0.         0.         0.         0.         0.00392157\n",
            "  0.29019608 0.18039216 0.13333333 0.09019608 0.07843137 0.06666667\n",
            "  0.04313725 0.03921569 0.09411765 0.01568627 0.00784314 0.03529412\n",
            "  0.11372549 0.1372549  0.14509804 0.23529412 0.2        0.\n",
            "  0.00392157 0.         0.         0.        ]\n",
            " [0.         0.         0.         0.         0.         0.13333333\n",
            "  0.25490196 0.         0.         0.         0.         0.05098039\n",
            "  0.05490196 0.         0.         0.         0.         0.\n",
            "  0.         0.         0.         0.03921569 0.21568627 0.04313725\n",
            "  0.         0.         0.         0.        ]\n",
            " [0.         0.         0.         0.         0.         0.22745098\n",
            "  0.0627451  0.11764706 0.79215686 0.9372549  1.         1.\n",
            "  1.         1.         1.         1.         0.99607843 0.91764706\n",
            "  0.84705882 0.72156863 0.38039216 0.         0.12156863 0.12941176\n",
            "  0.         0.         0.         0.        ]\n",
            " [0.         0.         0.         0.         0.         0.25098039\n",
            "  0.         0.88235294 0.98431373 0.91372549 0.91764706 0.91372549\n",
            "  0.90980392 0.91372549 0.92156863 0.91764706 0.9254902  0.93333333\n",
            "  0.93333333 0.9372549  0.99607843 0.52941176 0.         0.20392157\n",
            "  0.         0.         0.         0.        ]\n",
            " [0.         0.         0.         0.         0.         0.01176471\n",
            "  0.05098039 1.         0.86666667 0.88627451 0.89803922 0.90196078\n",
            "  0.89803922 0.89803922 0.90196078 0.89803922 0.89019608 0.88627451\n",
            "  0.8745098  0.8627451  0.89803922 0.95686275 0.         0.03921569\n",
            "  0.         0.         0.         0.        ]\n",
            " [0.         0.         0.         0.         0.05490196 0.72156863\n",
            "  0.50196078 1.         0.87843137 0.88235294 0.90196078 0.90980392\n",
            "  0.90588235 0.90588235 0.90980392 0.90196078 0.90588235 0.90196078\n",
            "  0.89803922 0.87058824 0.91764706 1.         0.         0.30588235\n",
            "  0.         0.         0.         0.        ]\n",
            " [0.         0.         0.         0.         0.         1.\n",
            "  0.91764706 0.91764706 0.87058824 0.85882353 0.86666667 0.85490196\n",
            "  0.8627451  0.8745098  0.8745098  0.87058824 0.8627451  0.85882353\n",
            "  0.8627451  0.85490196 0.91372549 0.89803922 0.92156863 1.\n",
            "  0.         0.         0.         0.        ]\n",
            " [0.         0.         0.         0.         0.13333333 0.88235294\n",
            "  0.86666667 0.92156863 0.93333333 1.         1.         1.\n",
            "  1.         1.         1.         1.         1.         1.\n",
            "  1.         0.9372549  0.90196078 0.9372549  0.92941176 0.97647059\n",
            "  0.         0.         0.         0.        ]\n",
            " [0.         0.         0.         0.         0.33333333 0.9254902\n",
            "  0.88235294 0.81960784 0.77254902 0.69803922 0.48235294 0.38823529\n",
            "  0.28235294 0.20392157 0.16470588 0.23529412 0.33333333 0.48235294\n",
            "  0.64313725 0.94509804 0.93333333 0.89411765 0.88235294 0.87843137\n",
            "  0.02745098 0.         0.         0.        ]\n",
            " [0.         0.         0.         0.         0.38431373 0.87058824\n",
            "  0.96078431 0.83529412 0.         0.         0.         0.\n",
            "  0.         0.         0.         0.         0.         0.\n",
            "  0.         0.         0.1372549  0.87058824 0.96078431 0.98039216\n",
            "  0.25490196 0.         0.         0.        ]\n",
            " [0.         0.         0.         0.         0.         0.01176471\n",
            "  0.16470588 0.19215686 0.04705882 0.14117647 0.1372549  0.11764706\n",
            "  0.10196078 0.08627451 0.08235294 0.08627451 0.08627451 0.0745098\n",
            "  0.07058824 0.0627451  0.         0.64705882 0.79607843 0.7372549\n",
            "  0.18039216 0.         0.         0.        ]\n",
            " [0.         0.         0.         0.         0.12941176 0.04705882\n",
            "  0.         0.         0.09019608 0.15686275 0.11372549 0.09019608\n",
            "  0.0745098  0.06666667 0.06666667 0.06666667 0.05882353 0.0627451\n",
            "  0.05098039 0.10588235 0.03529412 0.         0.         0.\n",
            "  0.         0.         0.         0.        ]\n",
            " [0.         0.         0.         0.         0.16862745 0.09803922\n",
            "  0.09019608 0.05490196 0.1372549  0.15294118 0.11764706 0.08235294\n",
            "  0.07843137 0.07058824 0.0627451  0.0627451  0.05882353 0.05882353\n",
            "  0.06666667 0.09803922 0.03921569 0.10196078 0.17254902 0.1254902\n",
            "  0.07058824 0.         0.         0.        ]\n",
            " [0.         0.         0.         0.         0.15686275 0.09411765\n",
            "  0.0745098  0.01176471 0.14901961 0.15294118 0.14117647 0.09019608\n",
            "  0.09803922 0.08627451 0.07843137 0.0745098  0.06666667 0.07058824\n",
            "  0.0745098  0.10980392 0.06666667 0.03921569 0.19215686 0.11764706\n",
            "  0.09803922 0.         0.         0.        ]\n",
            " [0.         0.         0.         0.         0.17254902 0.09803922\n",
            "  0.09803922 0.01568627 0.12941176 0.         0.         0.\n",
            "  0.         0.         0.         0.         0.         0.\n",
            "  0.         0.         0.         0.03137255 0.21176471 0.09411765\n",
            "  0.09411765 0.         0.         0.        ]\n",
            " [0.         0.         0.         0.         0.09803922 0.01960784\n",
            "  0.01176471 0.00784314 0.89019608 0.70980392 0.61568627 0.62745098\n",
            "  0.64313725 0.64313725 0.66666667 0.68235294 0.69803922 0.71764706\n",
            "  0.68627451 0.7372549  0.56078431 0.         0.2745098  0.10980392\n",
            "  0.10588235 0.         0.         0.        ]\n",
            " [0.         0.         0.         0.         0.10588235 0.\n",
            "  0.10588235 0.         1.         0.95294118 0.94509804 0.94901961\n",
            "  0.95686275 0.94901961 0.94901961 0.94509804 0.9372549  0.94117647\n",
            "  0.94509804 0.96862745 0.9372549  0.         0.14117647 0.\n",
            "  0.         0.         0.         0.        ]\n",
            " [0.         0.         0.         0.         0.75294118 1.\n",
            "  1.         0.         0.95294118 0.89019608 0.8745098  0.8627451\n",
            "  0.85882353 0.85882353 0.8745098  0.85882353 0.84705882 0.8627451\n",
            "  0.88235294 0.89411765 0.90588235 0.         0.8627451  0.60784314\n",
            "  0.28235294 0.         0.         0.        ]\n",
            " [0.         0.         0.         0.         0.70196078 0.9254902\n",
            "  0.93333333 0.         0.93333333 0.92941176 0.89019608 0.90196078\n",
            "  0.89803922 0.89803922 0.90588235 0.89411765 0.89019608 0.90980392\n",
            "  0.90980392 0.9372549  0.98039216 0.         1.         1.\n",
            "  0.61176471 0.         0.         0.        ]\n",
            " [0.         0.         0.         0.         0.65490196 0.91764706\n",
            "  0.87058824 0.         0.91372549 0.94117647 0.89803922 0.90196078\n",
            "  0.90196078 0.90196078 0.90196078 0.89411765 0.89803922 0.90980392\n",
            "  0.90980392 0.9254902  1.         0.         0.8        0.97254902\n",
            "  0.4627451  0.         0.         0.        ]\n",
            " [0.         0.         0.         0.         0.62745098 1.\n",
            "  0.83137255 0.         0.90588235 0.90588235 0.89019608 0.89019608\n",
            "  0.86666667 0.86666667 0.87058824 0.86666667 0.86666667 0.87843137\n",
            "  0.89411765 0.89411765 1.         0.         0.72941176 0.98431373\n",
            "  0.54901961 0.         0.         0.        ]\n",
            " [0.         0.         0.         0.         0.54117647 0.95294118\n",
            "  0.82745098 0.         0.91372549 1.         0.94509804 0.96078431\n",
            "  0.96078431 0.96078431 0.95686275 0.95686275 0.95686275 0.96862745\n",
            "  0.97254902 0.99215686 1.         0.         0.66666667 0.99607843\n",
            "  0.56862745 0.         0.         0.        ]\n",
            " [0.         0.         0.         0.         0.54117647 0.96078431\n",
            "  0.80784314 0.         0.16078431 0.63921569 0.65882353 0.6627451\n",
            "  0.62352941 0.60784314 0.64705882 0.63921569 0.65098039 0.59215686\n",
            "  0.55686275 0.58823529 0.56862745 0.         0.65098039 0.99607843\n",
            "  0.59215686 0.         0.         0.        ]\n",
            " [0.         0.         0.         0.         0.65882353 0.96470588\n",
            "  0.73333333 0.         0.         0.         0.         0.\n",
            "  0.         0.         0.         0.         0.         0.\n",
            "  0.         0.         0.         0.         0.6        0.99215686\n",
            "  0.58431373 0.         0.         0.        ]\n",
            " [0.         0.         0.         0.         0.70588235 0.98431373\n",
            "  0.75294118 0.         0.00392157 0.01176471 0.         0.\n",
            "  0.         0.00392157 0.         0.         0.         0.00392157\n",
            "  0.00784314 0.01176471 0.02745098 0.         0.63921569 1.\n",
            "  0.74901961 0.         0.         0.        ]\n",
            " [0.         0.         0.         0.         0.01568627 0.22745098\n",
            "  0.07843137 0.         0.         0.         0.         0.\n",
            "  0.         0.         0.         0.         0.         0.\n",
            "  0.         0.         0.00392157 0.         0.29803922 0.70980392\n",
            "  0.36078431 0.         0.         0.        ]]\n",
            "Elemento 125: [0.         0.         0.         0.         0.         0.\n",
            " 0.         0.         0.05098039 0.17647059 0.18823529 0.05490196\n",
            " 0.         0.         0.         0.         0.         0.18431373\n",
            " 0.20392157 0.12941176 0.00392157 0.         0.         0.00392157\n",
            " 0.         0.         0.         0.         0.         0.\n",
            " 0.         0.         0.00392157 0.         0.05098039 0.29411765\n",
            " 0.32941176 0.2627451  0.21568627 0.21568627 0.15294118 0.25098039\n",
            " 0.90196078 0.3254902  0.30980392 0.25882353 0.2        0.29019608\n",
            " 0.31372549 0.19215686 0.         0.         0.         0.\n",
            " 0.         0.         0.         0.         0.         0.\n",
            " 0.         0.00392157 0.29019608 0.18039216 0.13333333 0.09019608\n",
            " 0.07843137 0.06666667 0.04313725 0.03921569 0.09411765 0.01568627\n",
            " 0.00784314 0.03529412 0.11372549 0.1372549  0.14509804 0.23529412\n",
            " 0.2        0.         0.00392157 0.         0.         0.\n",
            " 0.         0.         0.         0.         0.         0.13333333\n",
            " 0.25490196 0.         0.         0.         0.         0.05098039\n",
            " 0.05490196 0.         0.         0.         0.         0.\n",
            " 0.         0.         0.         0.03921569 0.21568627 0.04313725\n",
            " 0.         0.         0.         0.         0.         0.\n",
            " 0.         0.         0.         0.22745098 0.0627451  0.11764706\n",
            " 0.79215686 0.9372549  1.         1.         1.         1.\n",
            " 1.         1.         0.99607843 0.91764706 0.84705882 0.72156863\n",
            " 0.38039216 0.         0.12156863 0.12941176 0.         0.\n",
            " 0.         0.         0.         0.         0.         0.\n",
            " 0.         0.25098039 0.         0.88235294 0.98431373 0.91372549\n",
            " 0.91764706 0.91372549 0.90980392 0.91372549 0.92156863 0.91764706\n",
            " 0.9254902  0.93333333 0.93333333 0.9372549  0.99607843 0.52941176\n",
            " 0.         0.20392157 0.         0.         0.         0.\n",
            " 0.         0.         0.         0.         0.         0.01176471\n",
            " 0.05098039 1.         0.86666667 0.88627451 0.89803922 0.90196078\n",
            " 0.89803922 0.89803922 0.90196078 0.89803922 0.89019608 0.88627451\n",
            " 0.8745098  0.8627451  0.89803922 0.95686275 0.         0.03921569\n",
            " 0.         0.         0.         0.         0.         0.\n",
            " 0.         0.         0.05490196 0.72156863 0.50196078 1.\n",
            " 0.87843137 0.88235294 0.90196078 0.90980392 0.90588235 0.90588235\n",
            " 0.90980392 0.90196078 0.90588235 0.90196078 0.89803922 0.87058824\n",
            " 0.91764706 1.         0.         0.30588235 0.         0.\n",
            " 0.         0.         0.         0.         0.         0.\n",
            " 0.         1.         0.91764706 0.91764706 0.87058824 0.85882353\n",
            " 0.86666667 0.85490196 0.8627451  0.8745098  0.8745098  0.87058824\n",
            " 0.8627451  0.85882353 0.8627451  0.85490196 0.91372549 0.89803922\n",
            " 0.92156863 1.         0.         0.         0.         0.\n",
            " 0.         0.         0.         0.         0.13333333 0.88235294\n",
            " 0.86666667 0.92156863 0.93333333 1.         1.         1.\n",
            " 1.         1.         1.         1.         1.         1.\n",
            " 1.         0.9372549  0.90196078 0.9372549  0.92941176 0.97647059\n",
            " 0.         0.         0.         0.         0.         0.\n",
            " 0.         0.         0.33333333 0.9254902  0.88235294 0.81960784\n",
            " 0.77254902 0.69803922 0.48235294 0.38823529 0.28235294 0.20392157\n",
            " 0.16470588 0.23529412 0.33333333 0.48235294 0.64313725 0.94509804\n",
            " 0.93333333 0.89411765 0.88235294 0.87843137 0.02745098 0.\n",
            " 0.         0.         0.         0.         0.         0.\n",
            " 0.38431373 0.87058824 0.96078431 0.83529412 0.         0.\n",
            " 0.         0.         0.         0.         0.         0.\n",
            " 0.         0.         0.         0.         0.1372549  0.87058824\n",
            " 0.96078431 0.98039216 0.25490196 0.         0.         0.\n",
            " 0.         0.         0.         0.         0.         0.01176471\n",
            " 0.16470588 0.19215686 0.04705882 0.14117647 0.1372549  0.11764706\n",
            " 0.10196078 0.08627451 0.08235294 0.08627451 0.08627451 0.0745098\n",
            " 0.07058824 0.0627451  0.         0.64705882 0.79607843 0.7372549\n",
            " 0.18039216 0.         0.         0.         0.         0.\n",
            " 0.         0.         0.12941176 0.04705882 0.         0.\n",
            " 0.09019608 0.15686275 0.11372549 0.09019608 0.0745098  0.06666667\n",
            " 0.06666667 0.06666667 0.05882353 0.0627451  0.05098039 0.10588235\n",
            " 0.03529412 0.         0.         0.         0.         0.\n",
            " 0.         0.         0.         0.         0.         0.\n",
            " 0.16862745 0.09803922 0.09019608 0.05490196 0.1372549  0.15294118\n",
            " 0.11764706 0.08235294 0.07843137 0.07058824 0.0627451  0.0627451\n",
            " 0.05882353 0.05882353 0.06666667 0.09803922 0.03921569 0.10196078\n",
            " 0.17254902 0.1254902  0.07058824 0.         0.         0.\n",
            " 0.         0.         0.         0.         0.15686275 0.09411765\n",
            " 0.0745098  0.01176471 0.14901961 0.15294118 0.14117647 0.09019608\n",
            " 0.09803922 0.08627451 0.07843137 0.0745098  0.06666667 0.07058824\n",
            " 0.0745098  0.10980392 0.06666667 0.03921569 0.19215686 0.11764706\n",
            " 0.09803922 0.         0.         0.         0.         0.\n",
            " 0.         0.         0.17254902 0.09803922 0.09803922 0.01568627\n",
            " 0.12941176 0.         0.         0.         0.         0.\n",
            " 0.         0.         0.         0.         0.         0.\n",
            " 0.         0.03137255 0.21176471 0.09411765 0.09411765 0.\n",
            " 0.         0.         0.         0.         0.         0.\n",
            " 0.09803922 0.01960784 0.01176471 0.00784314 0.89019608 0.70980392\n",
            " 0.61568627 0.62745098 0.64313725 0.64313725 0.66666667 0.68235294\n",
            " 0.69803922 0.71764706 0.68627451 0.7372549  0.56078431 0.\n",
            " 0.2745098  0.10980392 0.10588235 0.         0.         0.\n",
            " 0.         0.         0.         0.         0.10588235 0.\n",
            " 0.10588235 0.         1.         0.95294118 0.94509804 0.94901961\n",
            " 0.95686275 0.94901961 0.94901961 0.94509804 0.9372549  0.94117647\n",
            " 0.94509804 0.96862745 0.9372549  0.         0.14117647 0.\n",
            " 0.         0.         0.         0.         0.         0.\n",
            " 0.         0.         0.75294118 1.         1.         0.\n",
            " 0.95294118 0.89019608 0.8745098  0.8627451  0.85882353 0.85882353\n",
            " 0.8745098  0.85882353 0.84705882 0.8627451  0.88235294 0.89411765\n",
            " 0.90588235 0.         0.8627451  0.60784314 0.28235294 0.\n",
            " 0.         0.         0.         0.         0.         0.\n",
            " 0.70196078 0.9254902  0.93333333 0.         0.93333333 0.92941176\n",
            " 0.89019608 0.90196078 0.89803922 0.89803922 0.90588235 0.89411765\n",
            " 0.89019608 0.90980392 0.90980392 0.9372549  0.98039216 0.\n",
            " 1.         1.         0.61176471 0.         0.         0.\n",
            " 0.         0.         0.         0.         0.65490196 0.91764706\n",
            " 0.87058824 0.         0.91372549 0.94117647 0.89803922 0.90196078\n",
            " 0.90196078 0.90196078 0.90196078 0.89411765 0.89803922 0.90980392\n",
            " 0.90980392 0.9254902  1.         0.         0.8        0.97254902\n",
            " 0.4627451  0.         0.         0.         0.         0.\n",
            " 0.         0.         0.62745098 1.         0.83137255 0.\n",
            " 0.90588235 0.90588235 0.89019608 0.89019608 0.86666667 0.86666667\n",
            " 0.87058824 0.86666667 0.86666667 0.87843137 0.89411765 0.89411765\n",
            " 1.         0.         0.72941176 0.98431373 0.54901961 0.\n",
            " 0.         0.         0.         0.         0.         0.\n",
            " 0.54117647 0.95294118 0.82745098 0.         0.91372549 1.\n",
            " 0.94509804 0.96078431 0.96078431 0.96078431 0.95686275 0.95686275\n",
            " 0.95686275 0.96862745 0.97254902 0.99215686 1.         0.\n",
            " 0.66666667 0.99607843 0.56862745 0.         0.         0.\n",
            " 0.         0.         0.         0.         0.54117647 0.96078431\n",
            " 0.80784314 0.         0.16078431 0.63921569 0.65882353 0.6627451\n",
            " 0.62352941 0.60784314 0.64705882 0.63921569 0.65098039 0.59215686\n",
            " 0.55686275 0.58823529 0.56862745 0.         0.65098039 0.99607843\n",
            " 0.59215686 0.         0.         0.         0.         0.\n",
            " 0.         0.         0.65882353 0.96470588 0.73333333 0.\n",
            " 0.         0.         0.         0.         0.         0.\n",
            " 0.         0.         0.         0.         0.         0.\n",
            " 0.         0.         0.6        0.99215686 0.58431373 0.\n",
            " 0.         0.         0.         0.         0.         0.\n",
            " 0.70588235 0.98431373 0.75294118 0.         0.00392157 0.01176471\n",
            " 0.         0.         0.         0.00392157 0.         0.\n",
            " 0.         0.00392157 0.00784314 0.01176471 0.02745098 0.\n",
            " 0.63921569 1.         0.74901961 0.         0.         0.\n",
            " 0.         0.         0.         0.         0.01568627 0.22745098\n",
            " 0.07843137 0.         0.         0.         0.         0.\n",
            " 0.         0.         0.         0.         0.         0.\n",
            " 0.         0.         0.00392157 0.         0.29803922 0.70980392\n",
            " 0.36078431 0.         0.         0.        ]\n"
          ]
        }
      ]
    },
    {
      "cell_type": "code",
      "source": [
        "model = tf.keras.Sequential([\n",
        "    tf.keras.layers.Flatten(input_shape=(28, 28)),\n",
        "    tf.keras.layers.Dense(512, activation='relu', kernel_initializer='he_uniform'),\n",
        "    tf.keras.layers.Dense(10, activation='softmax')\n",
        "])"
      ],
      "metadata": {
        "colab": {
          "base_uri": "https://localhost:8080/"
        },
        "id": "FQhixsjpZJOt",
        "outputId": "19242334-335e-41c9-850e-4bde8ba9e3bb"
      },
      "execution_count": null,
      "outputs": [
        {
          "output_type": "stream",
          "name": "stderr",
          "text": [
            "/usr/local/lib/python3.10/dist-packages/keras/src/layers/reshaping/flatten.py:37: UserWarning: Do not pass an `input_shape`/`input_dim` argument to a layer. When using Sequential models, prefer using an `Input(shape)` object as the first layer in the model instead.\n",
            "  super().__init__(**kwargs)\n"
          ]
        }
      ]
    },
    {
      "cell_type": "code",
      "source": [
        "model.summary()"
      ],
      "metadata": {
        "colab": {
          "base_uri": "https://localhost:8080/",
          "height": 225
        },
        "id": "J7cc_mt4ZTaS",
        "outputId": "f89fdd09-8fce-4081-ccf6-ff7d5cb68f6b"
      },
      "execution_count": null,
      "outputs": [
        {
          "output_type": "display_data",
          "data": {
            "text/plain": [
              "\u001b[1mModel: \"sequential_1\"\u001b[0m\n"
            ],
            "text/html": [
              "<pre style=\"white-space:pre;overflow-x:auto;line-height:normal;font-family:Menlo,'DejaVu Sans Mono',consolas,'Courier New',monospace\"><span style=\"font-weight: bold\">Model: \"sequential_1\"</span>\n",
              "</pre>\n"
            ]
          },
          "metadata": {}
        },
        {
          "output_type": "display_data",
          "data": {
            "text/plain": [
              "┏━━━━━━━━━━━━━━━━━━━━━━━━━━━━━━━━━━━━━━┳━━━━━━━━━━━━━━━━━━━━━━━━━━━━━┳━━━━━━━━━━━━━━━━━┓\n",
              "┃\u001b[1m \u001b[0m\u001b[1mLayer (type)                        \u001b[0m\u001b[1m \u001b[0m┃\u001b[1m \u001b[0m\u001b[1mOutput Shape               \u001b[0m\u001b[1m \u001b[0m┃\u001b[1m \u001b[0m\u001b[1m        Param #\u001b[0m\u001b[1m \u001b[0m┃\n",
              "┡━━━━━━━━━━━━━━━━━━━━━━━━━━━━━━━━━━━━━━╇━━━━━━━━━━━━━━━━━━━━━━━━━━━━━╇━━━━━━━━━━━━━━━━━┩\n",
              "│ flatten_1 (\u001b[38;5;33mFlatten\u001b[0m)                  │ (\u001b[38;5;45mNone\u001b[0m, \u001b[38;5;34m784\u001b[0m)                 │               \u001b[38;5;34m0\u001b[0m │\n",
              "├──────────────────────────────────────┼─────────────────────────────┼─────────────────┤\n",
              "│ dense_2 (\u001b[38;5;33mDense\u001b[0m)                      │ (\u001b[38;5;45mNone\u001b[0m, \u001b[38;5;34m512\u001b[0m)                 │         \u001b[38;5;34m401,920\u001b[0m │\n",
              "├──────────────────────────────────────┼─────────────────────────────┼─────────────────┤\n",
              "│ dense_3 (\u001b[38;5;33mDense\u001b[0m)                      │ (\u001b[38;5;45mNone\u001b[0m, \u001b[38;5;34m10\u001b[0m)                  │           \u001b[38;5;34m5,130\u001b[0m │\n",
              "└──────────────────────────────────────┴─────────────────────────────┴─────────────────┘\n"
            ],
            "text/html": [
              "<pre style=\"white-space:pre;overflow-x:auto;line-height:normal;font-family:Menlo,'DejaVu Sans Mono',consolas,'Courier New',monospace\">┏━━━━━━━━━━━━━━━━━━━━━━━━━━━━━━━━━━━━━━┳━━━━━━━━━━━━━━━━━━━━━━━━━━━━━┳━━━━━━━━━━━━━━━━━┓\n",
              "┃<span style=\"font-weight: bold\"> Layer (type)                         </span>┃<span style=\"font-weight: bold\"> Output Shape                </span>┃<span style=\"font-weight: bold\">         Param # </span>┃\n",
              "┡━━━━━━━━━━━━━━━━━━━━━━━━━━━━━━━━━━━━━━╇━━━━━━━━━━━━━━━━━━━━━━━━━━━━━╇━━━━━━━━━━━━━━━━━┩\n",
              "│ flatten_1 (<span style=\"color: #0087ff; text-decoration-color: #0087ff\">Flatten</span>)                  │ (<span style=\"color: #00d7ff; text-decoration-color: #00d7ff\">None</span>, <span style=\"color: #00af00; text-decoration-color: #00af00\">784</span>)                 │               <span style=\"color: #00af00; text-decoration-color: #00af00\">0</span> │\n",
              "├──────────────────────────────────────┼─────────────────────────────┼─────────────────┤\n",
              "│ dense_2 (<span style=\"color: #0087ff; text-decoration-color: #0087ff\">Dense</span>)                      │ (<span style=\"color: #00d7ff; text-decoration-color: #00d7ff\">None</span>, <span style=\"color: #00af00; text-decoration-color: #00af00\">512</span>)                 │         <span style=\"color: #00af00; text-decoration-color: #00af00\">401,920</span> │\n",
              "├──────────────────────────────────────┼─────────────────────────────┼─────────────────┤\n",
              "│ dense_3 (<span style=\"color: #0087ff; text-decoration-color: #0087ff\">Dense</span>)                      │ (<span style=\"color: #00d7ff; text-decoration-color: #00d7ff\">None</span>, <span style=\"color: #00af00; text-decoration-color: #00af00\">10</span>)                  │           <span style=\"color: #00af00; text-decoration-color: #00af00\">5,130</span> │\n",
              "└──────────────────────────────────────┴─────────────────────────────┴─────────────────┘\n",
              "</pre>\n"
            ]
          },
          "metadata": {}
        },
        {
          "output_type": "display_data",
          "data": {
            "text/plain": [
              "\u001b[1m Total params: \u001b[0m\u001b[38;5;34m407,050\u001b[0m (1.55 MB)\n"
            ],
            "text/html": [
              "<pre style=\"white-space:pre;overflow-x:auto;line-height:normal;font-family:Menlo,'DejaVu Sans Mono',consolas,'Courier New',monospace\"><span style=\"font-weight: bold\"> Total params: </span><span style=\"color: #00af00; text-decoration-color: #00af00\">407,050</span> (1.55 MB)\n",
              "</pre>\n"
            ]
          },
          "metadata": {}
        },
        {
          "output_type": "display_data",
          "data": {
            "text/plain": [
              "\u001b[1m Trainable params: \u001b[0m\u001b[38;5;34m407,050\u001b[0m (1.55 MB)\n"
            ],
            "text/html": [
              "<pre style=\"white-space:pre;overflow-x:auto;line-height:normal;font-family:Menlo,'DejaVu Sans Mono',consolas,'Courier New',monospace\"><span style=\"font-weight: bold\"> Trainable params: </span><span style=\"color: #00af00; text-decoration-color: #00af00\">407,050</span> (1.55 MB)\n",
              "</pre>\n"
            ]
          },
          "metadata": {}
        },
        {
          "output_type": "display_data",
          "data": {
            "text/plain": [
              "\u001b[1m Non-trainable params: \u001b[0m\u001b[38;5;34m0\u001b[0m (0.00 B)\n"
            ],
            "text/html": [
              "<pre style=\"white-space:pre;overflow-x:auto;line-height:normal;font-family:Menlo,'DejaVu Sans Mono',consolas,'Courier New',monospace\"><span style=\"font-weight: bold\"> Non-trainable params: </span><span style=\"color: #00af00; text-decoration-color: #00af00\">0</span> (0.00 B)\n",
              "</pre>\n"
            ]
          },
          "metadata": {}
        }
      ]
    },
    {
      "cell_type": "code",
      "source": [
        "model.compile(optimizer='adam',\n",
        "              loss='sparse_categorical_crossentropy',\n",
        "              metrics=['accuracy'])\n",
        "\n",
        "model.fit(train_images, train_labels, batch_size=64, epochs=10)"
      ],
      "metadata": {
        "colab": {
          "base_uri": "https://localhost:8080/"
        },
        "id": "5-6DpRHMZX5t",
        "outputId": "3cc0c256-85e7-4d06-cf3a-c759632c6f7e"
      },
      "execution_count": null,
      "outputs": [
        {
          "output_type": "stream",
          "name": "stdout",
          "text": [
            "Epoch 1/10\n",
            "\u001b[1m938/938\u001b[0m \u001b[32m━━━━━━━━━━━━━━━━━━━━\u001b[0m\u001b[37m\u001b[0m \u001b[1m3s\u001b[0m 2ms/step - accuracy: 0.7880 - loss: 0.6070\n",
            "Epoch 2/10\n",
            "\u001b[1m938/938\u001b[0m \u001b[32m━━━━━━━━━━━━━━━━━━━━\u001b[0m\u001b[37m\u001b[0m \u001b[1m1s\u001b[0m 2ms/step - accuracy: 0.8649 - loss: 0.3704\n",
            "Epoch 3/10\n",
            "\u001b[1m938/938\u001b[0m \u001b[32m━━━━━━━━━━━━━━━━━━━━\u001b[0m\u001b[37m\u001b[0m \u001b[1m3s\u001b[0m 2ms/step - accuracy: 0.8810 - loss: 0.3228\n",
            "Epoch 4/10\n",
            "\u001b[1m938/938\u001b[0m \u001b[32m━━━━━━━━━━━━━━━━━━━━\u001b[0m\u001b[37m\u001b[0m \u001b[1m1s\u001b[0m 2ms/step - accuracy: 0.8924 - loss: 0.2952\n",
            "Epoch 5/10\n",
            "\u001b[1m938/938\u001b[0m \u001b[32m━━━━━━━━━━━━━━━━━━━━\u001b[0m\u001b[37m\u001b[0m \u001b[1m3s\u001b[0m 2ms/step - accuracy: 0.8952 - loss: 0.2829\n",
            "Epoch 6/10\n",
            "\u001b[1m938/938\u001b[0m \u001b[32m━━━━━━━━━━━━━━━━━━━━\u001b[0m\u001b[37m\u001b[0m \u001b[1m2s\u001b[0m 2ms/step - accuracy: 0.9025 - loss: 0.2635\n",
            "Epoch 7/10\n",
            "\u001b[1m938/938\u001b[0m \u001b[32m━━━━━━━━━━━━━━━━━━━━\u001b[0m\u001b[37m\u001b[0m \u001b[1m2s\u001b[0m 2ms/step - accuracy: 0.9055 - loss: 0.2544\n",
            "Epoch 8/10\n",
            "\u001b[1m938/938\u001b[0m \u001b[32m━━━━━━━━━━━━━━━━━━━━\u001b[0m\u001b[37m\u001b[0m \u001b[1m1s\u001b[0m 2ms/step - accuracy: 0.9108 - loss: 0.2401\n",
            "Epoch 9/10\n",
            "\u001b[1m938/938\u001b[0m \u001b[32m━━━━━━━━━━━━━━━━━━━━\u001b[0m\u001b[37m\u001b[0m \u001b[1m3s\u001b[0m 2ms/step - accuracy: 0.9142 - loss: 0.2326\n",
            "Epoch 10/10\n",
            "\u001b[1m938/938\u001b[0m \u001b[32m━━━━━━━━━━━━━━━━━━━━\u001b[0m\u001b[37m\u001b[0m \u001b[1m2s\u001b[0m 2ms/step - accuracy: 0.9191 - loss: 0.2160\n"
          ]
        },
        {
          "output_type": "execute_result",
          "data": {
            "text/plain": [
              "<keras.src.callbacks.history.History at 0x7d9e5c2db1f0>"
            ]
          },
          "metadata": {},
          "execution_count": 38
        }
      ]
    },
    {
      "cell_type": "code",
      "source": [
        "test_loss, test_acc = model.evaluate(test_images,  test_labels, verbose=0)\n",
        "\n",
        "print('\\nTest loss:', test_loss)\n",
        "print('\\nTest accuracy:', test_acc)"
      ],
      "metadata": {
        "colab": {
          "base_uri": "https://localhost:8080/"
        },
        "id": "JVredVRBZiN7",
        "outputId": "5ed24247-b84a-4820-8727-44c279a0debb"
      },
      "execution_count": null,
      "outputs": [
        {
          "output_type": "stream",
          "name": "stdout",
          "text": [
            "\n",
            "Test loss: 0.31848350167274475\n",
            "\n",
            "Test accuracy: 0.892300009727478\n"
          ]
        }
      ]
    },
    {
      "cell_type": "code",
      "source": [
        "predictions = np.round(model.predict(test_images), 2)\n",
        "print(predictions[98])\n",
        "print(np.argmax(predictions[98]))\n",
        "\n",
        "print(test_labels[98])"
      ],
      "metadata": {
        "colab": {
          "base_uri": "https://localhost:8080/"
        },
        "id": "ra6KudnEZ_PK",
        "outputId": "d2d548b8-2950-4ced-f591-e100471dc487"
      },
      "execution_count": null,
      "outputs": [
        {
          "output_type": "stream",
          "name": "stdout",
          "text": [
            "\u001b[1m313/313\u001b[0m \u001b[32m━━━━━━━━━━━━━━━━━━━━\u001b[0m\u001b[37m\u001b[0m \u001b[1m1s\u001b[0m 2ms/step\n",
            "[0. 1. 0. 0. 0. 0. 0. 0. 0. 0.]\n",
            "1\n",
            "1\n"
          ]
        }
      ]
    },
    {
      "cell_type": "code",
      "source": [
        "model.save('/content/drive/MyDrive/Colab Notebooks/Redes neuronales/models/fashion_mnist.keras')"
      ],
      "metadata": {
        "id": "oQ6NbGD4bXOv"
      },
      "execution_count": null,
      "outputs": []
    },
    {
      "cell_type": "code",
      "source": [
        "!pip install streamlit"
      ],
      "metadata": {
        "colab": {
          "base_uri": "https://localhost:8080/"
        },
        "id": "Y2vR592VymZR",
        "outputId": "88e06b86-14e7-46bd-82bd-2fab97ad042a"
      },
      "execution_count": null,
      "outputs": [
        {
          "output_type": "stream",
          "name": "stdout",
          "text": [
            "Collecting streamlit\n",
            "  Downloading streamlit-1.40.2-py2.py3-none-any.whl.metadata (8.4 kB)\n",
            "Requirement already satisfied: altair<6,>=4.0 in /usr/local/lib/python3.10/dist-packages (from streamlit) (4.2.2)\n",
            "Requirement already satisfied: blinker<2,>=1.0.0 in /usr/local/lib/python3.10/dist-packages (from streamlit) (1.9.0)\n",
            "Requirement already satisfied: cachetools<6,>=4.0 in /usr/local/lib/python3.10/dist-packages (from streamlit) (5.5.0)\n",
            "Requirement already satisfied: click<9,>=7.0 in /usr/local/lib/python3.10/dist-packages (from streamlit) (8.1.7)\n",
            "Requirement already satisfied: numpy<3,>=1.23 in /usr/local/lib/python3.10/dist-packages (from streamlit) (1.26.4)\n",
            "Requirement already satisfied: packaging<25,>=20 in /usr/local/lib/python3.10/dist-packages (from streamlit) (24.2)\n",
            "Requirement already satisfied: pandas<3,>=1.4.0 in /usr/local/lib/python3.10/dist-packages (from streamlit) (2.2.2)\n",
            "Requirement already satisfied: pillow<12,>=7.1.0 in /usr/local/lib/python3.10/dist-packages (from streamlit) (11.0.0)\n",
            "Requirement already satisfied: protobuf<6,>=3.20 in /usr/local/lib/python3.10/dist-packages (from streamlit) (4.25.5)\n",
            "Requirement already satisfied: pyarrow>=7.0 in /usr/local/lib/python3.10/dist-packages (from streamlit) (17.0.0)\n",
            "Requirement already satisfied: requests<3,>=2.27 in /usr/local/lib/python3.10/dist-packages (from streamlit) (2.32.3)\n",
            "Requirement already satisfied: rich<14,>=10.14.0 in /usr/local/lib/python3.10/dist-packages (from streamlit) (13.9.4)\n",
            "Requirement already satisfied: tenacity<10,>=8.1.0 in /usr/local/lib/python3.10/dist-packages (from streamlit) (9.0.0)\n",
            "Requirement already satisfied: toml<2,>=0.10.1 in /usr/local/lib/python3.10/dist-packages (from streamlit) (0.10.2)\n",
            "Requirement already satisfied: typing-extensions<5,>=4.3.0 in /usr/local/lib/python3.10/dist-packages (from streamlit) (4.12.2)\n",
            "Collecting watchdog<7,>=2.1.5 (from streamlit)\n",
            "  Downloading watchdog-6.0.0-py3-none-manylinux2014_x86_64.whl.metadata (44 kB)\n",
            "\u001b[2K     \u001b[90m━━━━━━━━━━━━━━━━━━━━━━━━━━━━━━━━━━━━━━━━\u001b[0m \u001b[32m44.3/44.3 kB\u001b[0m \u001b[31m3.0 MB/s\u001b[0m eta \u001b[36m0:00:00\u001b[0m\n",
            "\u001b[?25hRequirement already satisfied: gitpython!=3.1.19,<4,>=3.0.7 in /usr/local/lib/python3.10/dist-packages (from streamlit) (3.1.43)\n",
            "Collecting pydeck<1,>=0.8.0b4 (from streamlit)\n",
            "  Downloading pydeck-0.9.1-py2.py3-none-any.whl.metadata (4.1 kB)\n",
            "Requirement already satisfied: tornado<7,>=6.0.3 in /usr/local/lib/python3.10/dist-packages (from streamlit) (6.3.3)\n",
            "Requirement already satisfied: entrypoints in /usr/local/lib/python3.10/dist-packages (from altair<6,>=4.0->streamlit) (0.4)\n",
            "Requirement already satisfied: jinja2 in /usr/local/lib/python3.10/dist-packages (from altair<6,>=4.0->streamlit) (3.1.4)\n",
            "Requirement already satisfied: jsonschema>=3.0 in /usr/local/lib/python3.10/dist-packages (from altair<6,>=4.0->streamlit) (4.23.0)\n",
            "Requirement already satisfied: toolz in /usr/local/lib/python3.10/dist-packages (from altair<6,>=4.0->streamlit) (0.12.1)\n",
            "Requirement already satisfied: gitdb<5,>=4.0.1 in /usr/local/lib/python3.10/dist-packages (from gitpython!=3.1.19,<4,>=3.0.7->streamlit) (4.0.11)\n",
            "Requirement already satisfied: python-dateutil>=2.8.2 in /usr/local/lib/python3.10/dist-packages (from pandas<3,>=1.4.0->streamlit) (2.8.2)\n",
            "Requirement already satisfied: pytz>=2020.1 in /usr/local/lib/python3.10/dist-packages (from pandas<3,>=1.4.0->streamlit) (2024.2)\n",
            "Requirement already satisfied: tzdata>=2022.7 in /usr/local/lib/python3.10/dist-packages (from pandas<3,>=1.4.0->streamlit) (2024.2)\n",
            "Requirement already satisfied: charset-normalizer<4,>=2 in /usr/local/lib/python3.10/dist-packages (from requests<3,>=2.27->streamlit) (3.4.0)\n",
            "Requirement already satisfied: idna<4,>=2.5 in /usr/local/lib/python3.10/dist-packages (from requests<3,>=2.27->streamlit) (3.10)\n",
            "Requirement already satisfied: urllib3<3,>=1.21.1 in /usr/local/lib/python3.10/dist-packages (from requests<3,>=2.27->streamlit) (2.2.3)\n",
            "Requirement already satisfied: certifi>=2017.4.17 in /usr/local/lib/python3.10/dist-packages (from requests<3,>=2.27->streamlit) (2024.8.30)\n",
            "Requirement already satisfied: markdown-it-py>=2.2.0 in /usr/local/lib/python3.10/dist-packages (from rich<14,>=10.14.0->streamlit) (3.0.0)\n",
            "Requirement already satisfied: pygments<3.0.0,>=2.13.0 in /usr/local/lib/python3.10/dist-packages (from rich<14,>=10.14.0->streamlit) (2.18.0)\n",
            "Requirement already satisfied: smmap<6,>=3.0.1 in /usr/local/lib/python3.10/dist-packages (from gitdb<5,>=4.0.1->gitpython!=3.1.19,<4,>=3.0.7->streamlit) (5.0.1)\n",
            "Requirement already satisfied: MarkupSafe>=2.0 in /usr/local/lib/python3.10/dist-packages (from jinja2->altair<6,>=4.0->streamlit) (3.0.2)\n",
            "Requirement already satisfied: attrs>=22.2.0 in /usr/local/lib/python3.10/dist-packages (from jsonschema>=3.0->altair<6,>=4.0->streamlit) (24.2.0)\n",
            "Requirement already satisfied: jsonschema-specifications>=2023.03.6 in /usr/local/lib/python3.10/dist-packages (from jsonschema>=3.0->altair<6,>=4.0->streamlit) (2024.10.1)\n",
            "Requirement already satisfied: referencing>=0.28.4 in /usr/local/lib/python3.10/dist-packages (from jsonschema>=3.0->altair<6,>=4.0->streamlit) (0.35.1)\n",
            "Requirement already satisfied: rpds-py>=0.7.1 in /usr/local/lib/python3.10/dist-packages (from jsonschema>=3.0->altair<6,>=4.0->streamlit) (0.21.0)\n",
            "Requirement already satisfied: mdurl~=0.1 in /usr/local/lib/python3.10/dist-packages (from markdown-it-py>=2.2.0->rich<14,>=10.14.0->streamlit) (0.1.2)\n",
            "Requirement already satisfied: six>=1.5 in /usr/local/lib/python3.10/dist-packages (from python-dateutil>=2.8.2->pandas<3,>=1.4.0->streamlit) (1.16.0)\n",
            "Downloading streamlit-1.40.2-py2.py3-none-any.whl (8.6 MB)\n",
            "\u001b[2K   \u001b[90m━━━━━━━━━━━━━━━━━━━━━━━━━━━━━━━━━━━━━━━━\u001b[0m \u001b[32m8.6/8.6 MB\u001b[0m \u001b[31m70.0 MB/s\u001b[0m eta \u001b[36m0:00:00\u001b[0m\n",
            "\u001b[?25hDownloading pydeck-0.9.1-py2.py3-none-any.whl (6.9 MB)\n",
            "\u001b[2K   \u001b[90m━━━━━━━━━━━━━━━━━━━━━━━━━━━━━━━━━━━━━━━━\u001b[0m \u001b[32m6.9/6.9 MB\u001b[0m \u001b[31m85.4 MB/s\u001b[0m eta \u001b[36m0:00:00\u001b[0m\n",
            "\u001b[?25hDownloading watchdog-6.0.0-py3-none-manylinux2014_x86_64.whl (79 kB)\n",
            "\u001b[2K   \u001b[90m━━━━━━━━━━━━━━━━━━━━━━━━━━━━━━━━━━━━━━━━\u001b[0m \u001b[32m79.1/79.1 kB\u001b[0m \u001b[31m8.0 MB/s\u001b[0m eta \u001b[36m0:00:00\u001b[0m\n",
            "\u001b[?25hInstalling collected packages: watchdog, pydeck, streamlit\n",
            "Successfully installed pydeck-0.9.1 streamlit-1.40.2 watchdog-6.0.0\n"
          ]
        }
      ]
    },
    {
      "cell_type": "code",
      "source": [
        "from google.colab import files\n",
        "files.download(\"/content/drive/MyDrive/Colab Notebooks/Redes neuronales/models/fashion_mnist.keras\")"
      ],
      "metadata": {
        "colab": {
          "base_uri": "https://localhost:8080/",
          "height": 17
        },
        "id": "0wRXZePowj1o",
        "outputId": "5593c5b0-1021-4b86-fd0e-a95e9eb13a61"
      },
      "execution_count": null,
      "outputs": [
        {
          "output_type": "display_data",
          "data": {
            "text/plain": [
              "<IPython.core.display.Javascript object>"
            ],
            "application/javascript": [
              "\n",
              "    async function download(id, filename, size) {\n",
              "      if (!google.colab.kernel.accessAllowed) {\n",
              "        return;\n",
              "      }\n",
              "      const div = document.createElement('div');\n",
              "      const label = document.createElement('label');\n",
              "      label.textContent = `Downloading \"${filename}\": `;\n",
              "      div.appendChild(label);\n",
              "      const progress = document.createElement('progress');\n",
              "      progress.max = size;\n",
              "      div.appendChild(progress);\n",
              "      document.body.appendChild(div);\n",
              "\n",
              "      const buffers = [];\n",
              "      let downloaded = 0;\n",
              "\n",
              "      const channel = await google.colab.kernel.comms.open(id);\n",
              "      // Send a message to notify the kernel that we're ready.\n",
              "      channel.send({})\n",
              "\n",
              "      for await (const message of channel.messages) {\n",
              "        // Send a message to notify the kernel that we're ready.\n",
              "        channel.send({})\n",
              "        if (message.buffers) {\n",
              "          for (const buffer of message.buffers) {\n",
              "            buffers.push(buffer);\n",
              "            downloaded += buffer.byteLength;\n",
              "            progress.value = downloaded;\n",
              "          }\n",
              "        }\n",
              "      }\n",
              "      const blob = new Blob(buffers, {type: 'application/binary'});\n",
              "      const a = document.createElement('a');\n",
              "      a.href = window.URL.createObjectURL(blob);\n",
              "      a.download = filename;\n",
              "      div.appendChild(a);\n",
              "      a.click();\n",
              "      div.remove();\n",
              "    }\n",
              "  "
            ]
          },
          "metadata": {}
        },
        {
          "output_type": "display_data",
          "data": {
            "text/plain": [
              "<IPython.core.display.Javascript object>"
            ],
            "application/javascript": [
              "download(\"download_b556128f-bee1-45f6-b99e-70d74c650b81\", \"fashion_mnist.keras\", 4903118)"
            ]
          },
          "metadata": {}
        }
      ]
    },
    {
      "cell_type": "code",
      "source": [
        "!pip install streamlit"
      ],
      "metadata": {
        "colab": {
          "base_uri": "https://localhost:8080/"
        },
        "id": "tBUbUzndxDuQ",
        "outputId": "fc188fc7-de0e-4c8d-ccf9-b9e3257be950"
      },
      "execution_count": null,
      "outputs": [
        {
          "output_type": "stream",
          "name": "stdout",
          "text": [
            "Requirement already satisfied: streamlit in /usr/local/lib/python3.10/dist-packages (1.40.2)\n",
            "Requirement already satisfied: altair<6,>=4.0 in /usr/local/lib/python3.10/dist-packages (from streamlit) (4.2.2)\n",
            "Requirement already satisfied: blinker<2,>=1.0.0 in /usr/local/lib/python3.10/dist-packages (from streamlit) (1.9.0)\n",
            "Requirement already satisfied: cachetools<6,>=4.0 in /usr/local/lib/python3.10/dist-packages (from streamlit) (5.5.0)\n",
            "Requirement already satisfied: click<9,>=7.0 in /usr/local/lib/python3.10/dist-packages (from streamlit) (8.1.7)\n",
            "Requirement already satisfied: numpy<3,>=1.23 in /usr/local/lib/python3.10/dist-packages (from streamlit) (1.26.4)\n",
            "Requirement already satisfied: packaging<25,>=20 in /usr/local/lib/python3.10/dist-packages (from streamlit) (24.2)\n",
            "Requirement already satisfied: pandas<3,>=1.4.0 in /usr/local/lib/python3.10/dist-packages (from streamlit) (2.2.2)\n",
            "Requirement already satisfied: pillow<12,>=7.1.0 in /usr/local/lib/python3.10/dist-packages (from streamlit) (11.0.0)\n",
            "Requirement already satisfied: protobuf<6,>=3.20 in /usr/local/lib/python3.10/dist-packages (from streamlit) (4.25.5)\n",
            "Requirement already satisfied: pyarrow>=7.0 in /usr/local/lib/python3.10/dist-packages (from streamlit) (17.0.0)\n",
            "Requirement already satisfied: requests<3,>=2.27 in /usr/local/lib/python3.10/dist-packages (from streamlit) (2.32.3)\n",
            "Requirement already satisfied: rich<14,>=10.14.0 in /usr/local/lib/python3.10/dist-packages (from streamlit) (13.9.4)\n",
            "Requirement already satisfied: tenacity<10,>=8.1.0 in /usr/local/lib/python3.10/dist-packages (from streamlit) (9.0.0)\n",
            "Requirement already satisfied: toml<2,>=0.10.1 in /usr/local/lib/python3.10/dist-packages (from streamlit) (0.10.2)\n",
            "Requirement already satisfied: typing-extensions<5,>=4.3.0 in /usr/local/lib/python3.10/dist-packages (from streamlit) (4.12.2)\n",
            "Requirement already satisfied: watchdog<7,>=2.1.5 in /usr/local/lib/python3.10/dist-packages (from streamlit) (6.0.0)\n",
            "Requirement already satisfied: gitpython!=3.1.19,<4,>=3.0.7 in /usr/local/lib/python3.10/dist-packages (from streamlit) (3.1.43)\n",
            "Requirement already satisfied: pydeck<1,>=0.8.0b4 in /usr/local/lib/python3.10/dist-packages (from streamlit) (0.9.1)\n",
            "Requirement already satisfied: tornado<7,>=6.0.3 in /usr/local/lib/python3.10/dist-packages (from streamlit) (6.3.3)\n",
            "Requirement already satisfied: entrypoints in /usr/local/lib/python3.10/dist-packages (from altair<6,>=4.0->streamlit) (0.4)\n",
            "Requirement already satisfied: jinja2 in /usr/local/lib/python3.10/dist-packages (from altair<6,>=4.0->streamlit) (3.1.4)\n",
            "Requirement already satisfied: jsonschema>=3.0 in /usr/local/lib/python3.10/dist-packages (from altair<6,>=4.0->streamlit) (4.23.0)\n",
            "Requirement already satisfied: toolz in /usr/local/lib/python3.10/dist-packages (from altair<6,>=4.0->streamlit) (0.12.1)\n",
            "Requirement already satisfied: gitdb<5,>=4.0.1 in /usr/local/lib/python3.10/dist-packages (from gitpython!=3.1.19,<4,>=3.0.7->streamlit) (4.0.11)\n",
            "Requirement already satisfied: python-dateutil>=2.8.2 in /usr/local/lib/python3.10/dist-packages (from pandas<3,>=1.4.0->streamlit) (2.8.2)\n",
            "Requirement already satisfied: pytz>=2020.1 in /usr/local/lib/python3.10/dist-packages (from pandas<3,>=1.4.0->streamlit) (2024.2)\n",
            "Requirement already satisfied: tzdata>=2022.7 in /usr/local/lib/python3.10/dist-packages (from pandas<3,>=1.4.0->streamlit) (2024.2)\n",
            "Requirement already satisfied: charset-normalizer<4,>=2 in /usr/local/lib/python3.10/dist-packages (from requests<3,>=2.27->streamlit) (3.4.0)\n",
            "Requirement already satisfied: idna<4,>=2.5 in /usr/local/lib/python3.10/dist-packages (from requests<3,>=2.27->streamlit) (3.10)\n",
            "Requirement already satisfied: urllib3<3,>=1.21.1 in /usr/local/lib/python3.10/dist-packages (from requests<3,>=2.27->streamlit) (2.2.3)\n",
            "Requirement already satisfied: certifi>=2017.4.17 in /usr/local/lib/python3.10/dist-packages (from requests<3,>=2.27->streamlit) (2024.8.30)\n",
            "Requirement already satisfied: markdown-it-py>=2.2.0 in /usr/local/lib/python3.10/dist-packages (from rich<14,>=10.14.0->streamlit) (3.0.0)\n",
            "Requirement already satisfied: pygments<3.0.0,>=2.13.0 in /usr/local/lib/python3.10/dist-packages (from rich<14,>=10.14.0->streamlit) (2.18.0)\n",
            "Requirement already satisfied: smmap<6,>=3.0.1 in /usr/local/lib/python3.10/dist-packages (from gitdb<5,>=4.0.1->gitpython!=3.1.19,<4,>=3.0.7->streamlit) (5.0.1)\n",
            "Requirement already satisfied: MarkupSafe>=2.0 in /usr/local/lib/python3.10/dist-packages (from jinja2->altair<6,>=4.0->streamlit) (3.0.2)\n",
            "Requirement already satisfied: attrs>=22.2.0 in /usr/local/lib/python3.10/dist-packages (from jsonschema>=3.0->altair<6,>=4.0->streamlit) (24.2.0)\n",
            "Requirement already satisfied: jsonschema-specifications>=2023.03.6 in /usr/local/lib/python3.10/dist-packages (from jsonschema>=3.0->altair<6,>=4.0->streamlit) (2024.10.1)\n",
            "Requirement already satisfied: referencing>=0.28.4 in /usr/local/lib/python3.10/dist-packages (from jsonschema>=3.0->altair<6,>=4.0->streamlit) (0.35.1)\n",
            "Requirement already satisfied: rpds-py>=0.7.1 in /usr/local/lib/python3.10/dist-packages (from jsonschema>=3.0->altair<6,>=4.0->streamlit) (0.21.0)\n",
            "Requirement already satisfied: mdurl~=0.1 in /usr/local/lib/python3.10/dist-packages (from markdown-it-py>=2.2.0->rich<14,>=10.14.0->streamlit) (0.1.2)\n",
            "Requirement already satisfied: six>=1.5 in /usr/local/lib/python3.10/dist-packages (from python-dateutil>=2.8.2->pandas<3,>=1.4.0->streamlit) (1.16.0)\n"
          ]
        }
      ]
    },
    {
      "cell_type": "code",
      "source": [
        "import streamlit as st\n",
        "from tensorflow.keras.models import load_model\n",
        "from PIL import Image\n",
        "import numpy as np\n",
        "\n",
        "# Cargar el modelo\n",
        "model = load_model(\"/content/drive/MyDrive/Colab Notebooks/Redes neuronales/models/fashion_mnist.keras\")\n",
        "\n",
        "# Crear la interfaz de usuario\n",
        "st.title(\"Clasificador Fashion MNIST\")\n",
        "st.write(\"Sube una imagen para clasificarla como una categoría de ropa.\")\n",
        "\n",
        "uploaded_file = st.file_uploader(\"Sube una imagen en escala de grises (28x28)\", type=[\"png\", \"jpg\", \"jpeg\"])\n",
        "\n",
        "if uploaded_file is not None:\n",
        "    # Procesar la imagen\n",
        "    image = Image.open(uploaded_file).convert('L')\n",
        "    image = image.resize((28, 28))\n",
        "    img_array = np.array(image) / 255.0\n",
        "    img_array = img_array.reshape(1, 28, 28, 1)\n",
        "\n",
        "    # Mostrar la imagen subida\n",
        "    st.image(image, caption=\"Imagen cargada\", use_column_width=True)\n",
        "\n",
        "    # Predicción\n",
        "    prediction = model.predict(img_array)\n",
        "    classes = [\"Camiseta/Top\", \"Pantalón\", \"Suéter\", \"Vestido\", \"Abrigo\",\n",
        "               \"Sandalia\", \"Camisa\", \"Zapatilla\", \"Bolso\", \"Botas\"]\n",
        "    st.write(\"Predicción:\", classes[np.argmax(prediction)])"
      ],
      "metadata": {
        "colab": {
          "base_uri": "https://localhost:8080/"
        },
        "id": "2QjxXqYFwzb8",
        "outputId": "a89df17e-f96d-45c8-efa0-08b91b97d38c"
      },
      "execution_count": null,
      "outputs": [
        {
          "output_type": "stream",
          "name": "stderr",
          "text": [
            "2024-12-03 09:06:24.547 WARNING streamlit.runtime.scriptrunner_utils.script_run_context: Thread 'MainThread': missing ScriptRunContext! This warning can be ignored when running in bare mode.\n",
            "2024-12-03 09:06:24.602 \n",
            "  \u001b[33m\u001b[1mWarning:\u001b[0m to view this Streamlit app on a browser, run it with the following\n",
            "  command:\n",
            "\n",
            "    streamlit run /usr/local/lib/python3.10/dist-packages/colab_kernel_launcher.py [ARGUMENTS]\n",
            "2024-12-03 09:06:24.603 Thread 'MainThread': missing ScriptRunContext! This warning can be ignored when running in bare mode.\n",
            "2024-12-03 09:06:24.606 Thread 'MainThread': missing ScriptRunContext! This warning can be ignored when running in bare mode.\n",
            "2024-12-03 09:06:24.608 Thread 'MainThread': missing ScriptRunContext! This warning can be ignored when running in bare mode.\n",
            "2024-12-03 09:06:24.611 Thread 'MainThread': missing ScriptRunContext! This warning can be ignored when running in bare mode.\n",
            "2024-12-03 09:06:24.612 Thread 'MainThread': missing ScriptRunContext! This warning can be ignored when running in bare mode.\n",
            "2024-12-03 09:06:24.614 Thread 'MainThread': missing ScriptRunContext! This warning can be ignored when running in bare mode.\n",
            "2024-12-03 09:06:24.616 Thread 'MainThread': missing ScriptRunContext! This warning can be ignored when running in bare mode.\n",
            "2024-12-03 09:06:24.618 Thread 'MainThread': missing ScriptRunContext! This warning can be ignored when running in bare mode.\n",
            "2024-12-03 09:06:24.619 Thread 'MainThread': missing ScriptRunContext! This warning can be ignored when running in bare mode.\n",
            "2024-12-03 09:06:24.622 Thread 'MainThread': missing ScriptRunContext! This warning can be ignored when running in bare mode.\n"
          ]
        }
      ]
    }
  ]
}